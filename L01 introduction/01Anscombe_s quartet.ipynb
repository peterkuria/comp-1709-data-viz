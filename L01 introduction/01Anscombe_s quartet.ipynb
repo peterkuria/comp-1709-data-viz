import matplotlib.pyplot as plt
import seaborn as sns
sns.set(style="ticks")

# Load the example dataset for Anscombe's quartet
data = sns.load_dataset("anscombe")
# print(data)
# print(data[data['dataset'] == 'I'].describe())
# print(data[data['dataset'] == 'II'].describe())
# print(data[data['dataset'] == 'III'].describe())
# print(data[data['dataset'] == 'IV'].describe())

# Show the results of a linear regression within each dataset
sns.lmplot(x='x', y='y', col='dataset', hue="dataset", data=data,
           col_wrap=2, ci=None, palette="muted", height=4,
           scatter_kws={"s": 50, "alpha": 1}, fit_reg=False)
plt.show()
